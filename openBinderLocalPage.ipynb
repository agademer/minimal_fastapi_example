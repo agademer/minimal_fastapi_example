{
 "cells": [
  {
   "cell_type": "code",
   "execution_count": null,
   "id": "ec8d524c",
   "metadata": {
    "vscode": {
     "languageId": "plaintext"
    }
   },
   "outputs": [],
   "source": [
    "from IPython.display import Javascript\n",
    "import os\n",
    "URL_BASE=\"https://hub.{SERVER}.mybinder.org{PREFIX}proxy/{PORT}/\"\n",
    "\n",
    "def guessServer():\n",
    "    return os.environ.get('JUPYTER_IMAGE').split('.')[1]\n",
    "    \n",
    "def window_open(url):\n",
    "    print(f\"Opening {url}\")\n",
    "    display(Javascript('window.open(\"{url}\");'.format(url=url)))\n",
    "\n",
    "def window_open_local_page(port):\n",
    "    window_open(URL_BASE.format(SERVER=guessServer(),PREFIX=os.environ.get('JUPYTERHUB_SERVICE_PREFIX'), PORT=port))\n",
    "\n",
    "window_open_local_page(8000)"
   ]
  }
 ],
 "metadata": {
  "language_info": {
   "name": "python"
  }
 },
 "nbformat": 4,
 "nbformat_minor": 5
}
